{
 "cells": [
  {
   "cell_type": "code",
   "execution_count": 38,
   "metadata": {},
   "outputs": [],
   "source": [
    "import requests\n",
    "\n",
    "# api_key = \"8a8e277166cc21d26c71fb104e16d30a7cc22bbded7ee130236119b8dd1e736e684c6421eb2d0aab466ebe90f66cc707\"\n",
    "api_key = \"6ed6f2b76e137eaeb4dfa589c1b8bbac59ac5a081429c088a7f859b93907377b997c15f8b7886001aa941257b3223490\"\n",
    "api_key = \"3d7cfd9c3be8d2c0c2170f62709a4163b216c929ce1c897c01716abeef3a3ec26817ee7cbcbb54ab6f6176ee6d34bfb4\"\n",
    "\n",
    "url = \"https://api.maihem.ai/\""
   ]
  },
  {
   "cell_type": "code",
   "execution_count": 39,
   "metadata": {},
   "outputs": [],
   "source": [
    "headers = {\n",
    "    'x-api-key': api_key,\n",
    "    'Accept': 'application/json'\n",
    "}"
   ]
  },
  {
   "cell_type": "code",
   "execution_count": 40,
   "metadata": {},
   "outputs": [],
   "source": [
    "r = requests.get(url + \"whoami\", headers=headers)"
   ]
  },
  {
   "cell_type": "code",
   "execution_count": 41,
   "metadata": {},
   "outputs": [
    {
     "data": {
      "text/plain": [
       "{'org': 'Maihem Test Edu (org_01j6hzxbvbe33r52ym6f4wve84)'}"
      ]
     },
     "execution_count": 41,
     "metadata": {},
     "output_type": "execute_result"
    }
   ],
   "source": [
    "r.json()"
   ]
  },
  {
   "cell_type": "code",
   "execution_count": 22,
   "metadata": {},
   "outputs": [],
   "source": [
    "headers = {\n",
    "    'x-api-key': api_key,\n",
    "    'Accept': 'application/json',\n",
    "    'Content-Type': 'application/json'\n",
    "}\n",
    "\n",
    "payload = {\n",
    "  \"identifier\": \"aaaaaaaa-aaaa-aaaa-aaaa-aaaaaaaaasdaaaabb\",\n",
    "  \"name\": \"tag_11ss1\",\n",
    "  \"role\": \"test chatbot\",\n",
    "  \"description\": \"example\",\n",
    "  \"industry\": \"healthcare\",\n",
    "  \"behaviour_prompt\": \"do this\",\n",
    "  \"language\": \"en\"\n",
    "}\n",
    "\n",
    "r2 = requests.get(url + \"agents/target\", headers=headers, data=payload)"
   ]
  },
  {
   "cell_type": "code",
   "execution_count": 25,
   "metadata": {},
   "outputs": [
    {
     "data": {
      "text/plain": [
       "b'\\n<html><head>\\n<meta http-equiv=\"content-type\" content=\"text/html;charset=utf-8\">\\n<title>400 Bad Request</title>\\n</head>\\n<body text=#000000 bgcolor=#ffffff>\\n<h1>Error: Bad Request</h1>\\n<h2>Your client has issued a malformed or illegal request.</h2>\\n<h2></h2>\\n</body></html>\\n'"
      ]
     },
     "execution_count": 25,
     "metadata": {},
     "output_type": "execute_result"
    }
   ],
   "source": [
    "r2.content"
   ]
  },
  {
   "cell_type": "code",
   "execution_count": null,
   "metadata": {},
   "outputs": [],
   "source": [
    "curl --location 'https://api.maihem.ai/agents/target' \\\n",
    "--header 'x-api-key: 8a8e277166cc21d26c71fb104e16d30a7cc22bbded7ee130236119b8dd1e736e684c6421eb2d0aab466ebe90f66cc707' \\\n",
    "--header 'Content-Type: application/json' \\\n",
    "--header 'Accept: application/json' \\\n",
    "--data '{\n",
    "  \"identifier\": \"<a unique identifier for your agent>\",\n",
    "  \"name\": \"<agent name>\",\n",
    "  \"role\": \"<agent role>\",\n",
    "  \"description\": \"<description of your agent>\",\n",
    "  \"industry\": \"<industry>\",\n",
    "  \"behaviour_prompt\": \"<agent behaviour prompts>\",\n",
    "  \"language\": \"en\"\n",
    "}'"
   ]
  },
  {
   "cell_type": "code",
   "execution_count": null,
   "metadata": {},
   "outputs": [],
   "source": []
  },
  {
   "cell_type": "code",
   "execution_count": 2,
   "metadata": {},
   "outputs": [
    {
     "name": "stdout",
     "output_type": "stream",
     "text": [
      "Collecting yaspin\n",
      "  Using cached yaspin-3.0.2-py3-none-any.whl.metadata (14 kB)\n",
      "Collecting termcolor==2.3.0 (from yaspin)\n",
      "  Using cached termcolor-2.3.0-py3-none-any.whl.metadata (5.3 kB)\n",
      "Using cached yaspin-3.0.2-py3-none-any.whl (18 kB)\n",
      "Using cached termcolor-2.3.0-py3-none-any.whl (6.9 kB)\n",
      "Installing collected packages: termcolor, yaspin\n",
      "Successfully installed termcolor-2.3.0 yaspin-3.0.2\n",
      "Note: you may need to restart the kernel to use updated packages.\n"
     ]
    }
   ],
   "source": [
    "%pip install yaspin\n"
   ]
  },
  {
   "cell_type": "code",
   "execution_count": 7,
   "metadata": {},
   "outputs": [],
   "source": [
    "\n"
   ]
  },
  {
   "cell_type": "code",
   "execution_count": 10,
   "metadata": {},
   "outputs": [
    {
     "name": "stdout",
     "output_type": "stream",
     "text": [
      "   \r"
     ]
    }
   ],
   "source": [
    "from yaspin import yaspin\n",
    "from yaspin.spinners import Spinners\n",
    "import time\n",
    "\n",
    "with yaspin(Spinners.arc) as sp:\n",
    "    time.sleep(10)"
   ]
  },
  {
   "cell_type": "code",
   "execution_count": null,
   "metadata": {},
   "outputs": [],
   "source": []
  }
 ],
 "metadata": {
  "kernelspec": {
   "display_name": "maihem",
   "language": "python",
   "name": "python3"
  },
  "language_info": {
   "codemirror_mode": {
    "name": "ipython",
    "version": 3
   },
   "file_extension": ".py",
   "mimetype": "text/x-python",
   "name": "python",
   "nbconvert_exporter": "python",
   "pygments_lexer": "ipython3",
   "version": "3.12.4"
  }
 },
 "nbformat": 4,
 "nbformat_minor": 2
}
