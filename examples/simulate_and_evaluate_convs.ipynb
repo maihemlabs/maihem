{
 "cells": [
  {
   "cell_type": "markdown",
   "metadata": {},
   "source": [
    "# Simulate conversations between your chatbot and AI personas and evaluate conversations"
   ]
  },
  {
   "cell_type": "code",
   "execution_count": null,
   "metadata": {},
   "outputs": [],
   "source": [
    "import maihem\n",
    "import os\n",
    "\n",
    "os.environ['MAIHEM_API_KEY'] = '<your_maihem_api_key>'"
   ]
  },
  {
   "cell_type": "markdown",
   "metadata": {},
   "source": [
    "### Create a test (a set of AI personas)"
   ]
  },
  {
   "cell_type": "code",
   "execution_count": null,
   "metadata": {},
   "outputs": [],
   "source": [
    "maihem.create_test(\n",
    "  test_name=\"<test_name>\",       # Choose a unique name for your test\n",
    "  chatbot_role=\"<chatbot_role>\", # Role of chatbot, e.g. \"education tutor\", \"customer service agent\"\n",
    "  industry=\"<industry>\",         # Industry of chatbot\n",
    "  n=50,                          # Number of AI personas in test\n",
    "  topic=\"<topic>\",               # Optional\n",
    "  intents=[\"<intent1>\", \"<intent2>\"], # Optional\n",
    "  language=\"<language>\"          # Optional\n",
    ") "
   ]
  },
  {
   "cell_type": "markdown",
   "metadata": {},
   "source": [
    "### Chat with AI persona"
   ]
  },
  {
   "cell_type": "code",
   "execution_count": null,
   "metadata": {},
   "outputs": [],
   "source": [
    "msg_persona = maihem.chat_with_persona(\n",
    "  test_name=\"<test_name>\",         # Name of previously created test\n",
    "  test_run_name=\"<test_run_name>\", # Choose name for this test run\n",
    "  persona_id=0,                    # ID of AI persona to chat with (must be between 0 and n-1)\n",
    "  message=\"<message>\",              # Message to send to AI persona from chatbot\n",
    "  num_turns_max=5                  # Maximum number of turns in chat\n",
    ")"
   ]
  },
  {
   "cell_type": "markdown",
   "metadata": {},
   "source": [
    "### Evaluate test run"
   ]
  },
  {
   "cell_type": "markdown",
   "metadata": {},
   "source": [
    "Define metrics"
   ]
  },
  {
   "cell_type": "code",
   "execution_count": null,
   "metadata": {},
   "outputs": [],
   "source": [
    "# Metrics chatbot – metrics that evaluate chatbot messages\n",
    "# This is an example, you can define your own metrics\n",
    "metrics_chatbot = {\n",
    "    \"Empathy\": \"The chatbot was able to understand and empathize with the persona's feelings\",\n",
    "    \"Politeness\": \"The chatbot used polite language and tone to communicate with the persona\",\n",
    "    \"On topic\": \"The chatbot stayed on topic and anwered the persona's request\",\n",
    "    \"Correct language\": \"The response of the chatbot was in the correct language\"\n",
    "}  \n",
    "\n",
    "# Metrics persona – metrics that evaluate persona messages\n",
    "# This is an example, you can define your own metrics\n",
    "metrics_persona = {\n",
    "    \"Mood improvement\": \"The persona's mood improved\",\n",
    "    \"Goal completion\": \"The goal of the persona was achieved\",\n",
    "    \"Frustration avoidance\": \"The persona was not fustrated\",\n",
    "}"
   ]
  },
  {
   "cell_type": "code",
   "execution_count": null,
   "metadata": {},
   "outputs": [],
   "source": [
    "df_eval = maihem.evaluate(\n",
    "  test_name=\"<test_name>\",          # Name of previously created test to evaluate       \n",
    "  test_run_name=\"<test_run_name>\",  # Name of test run with conversations to evaluate\n",
    "  metrics_chatbot=metrics_chatbot, \n",
    "  metrics_persona=metrics_persona,\n",
    "  eval_type=\"flagged\"               # Type of evaluation \"scores\" or \"flagged\"\n",
    ")\n",
    "\n",
    "df_eval"
   ]
  }
 ],
 "metadata": {
  "kernelspec": {
   "display_name": "maihem",
   "language": "python",
   "name": "python3"
  },
  "language_info": {
   "codemirror_mode": {
    "name": "ipython",
    "version": 3
   },
   "file_extension": ".py",
   "mimetype": "text/x-python",
   "name": "python",
   "nbconvert_exporter": "python",
   "pygments_lexer": "ipython3",
   "version": "3.9.18"
  }
 },
 "nbformat": 4,
 "nbformat_minor": 2
}
