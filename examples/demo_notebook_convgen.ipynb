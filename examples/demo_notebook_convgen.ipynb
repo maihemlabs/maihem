{
 "cells": [
  {
   "cell_type": "markdown",
   "metadata": {},
   "source": [
    "Install maihem pyton package"
   ]
  },
  {
   "cell_type": "code",
   "execution_count": 1,
   "metadata": {},
   "outputs": [
    {
     "name": "stdout",
     "output_type": "stream",
     "text": [
      "Collecting maihem\n",
      "  Downloading maihem-1.3.0-py3-none-any.whl.metadata (13 kB)\n",
      "Collecting requests (from maihem)\n",
      "  Using cached requests-2.31.0-py3-none-any.whl.metadata (4.6 kB)\n",
      "Collecting charset-normalizer<4,>=2 (from requests->maihem)\n",
      "  Using cached charset_normalizer-3.3.2-cp311-cp311-macosx_11_0_arm64.whl.metadata (33 kB)\n",
      "Collecting idna<4,>=2.5 (from requests->maihem)\n",
      "  Using cached idna-3.6-py3-none-any.whl.metadata (9.9 kB)\n",
      "Collecting urllib3<3,>=1.21.1 (from requests->maihem)\n",
      "  Using cached urllib3-2.1.0-py3-none-any.whl.metadata (6.4 kB)\n",
      "Collecting certifi>=2017.4.17 (from requests->maihem)\n",
      "  Using cached certifi-2023.11.17-py3-none-any.whl.metadata (2.2 kB)\n",
      "Downloading maihem-1.3.0-py3-none-any.whl (8.3 kB)\n",
      "Using cached requests-2.31.0-py3-none-any.whl (62 kB)\n",
      "Using cached certifi-2023.11.17-py3-none-any.whl (162 kB)\n",
      "Using cached charset_normalizer-3.3.2-cp311-cp311-macosx_11_0_arm64.whl (118 kB)\n",
      "Using cached idna-3.6-py3-none-any.whl (61 kB)\n",
      "Using cached urllib3-2.1.0-py3-none-any.whl (104 kB)\n",
      "Installing collected packages: urllib3, idna, charset-normalizer, certifi, requests, maihem\n",
      "Successfully installed certifi-2023.11.17 charset-normalizer-3.3.2 idna-3.6 maihem-1.3.0 requests-2.31.0 urllib3-2.1.0\n",
      "Note: you may need to restart the kernel to use updated packages.\n"
     ]
    }
   ],
   "source": [
    "%pip install maihem"
   ]
  },
  {
   "cell_type": "markdown",
   "metadata": {},
   "source": [
    "Import packages"
   ]
  },
  {
   "cell_type": "code",
   "execution_count": 1,
   "metadata": {},
   "outputs": [],
   "source": [
    "import maihem as mh\n",
    "import os"
   ]
  },
  {
   "cell_type": "markdown",
   "metadata": {},
   "source": [
    "Input MAIHEM API key (get one here [www.maihem.ai](https://www.maihem.ai))\n",
    "\n",
    "Find documentation [here](https://github.com/maihemlabs/maihem)"
   ]
  },
  {
   "cell_type": "code",
   "execution_count": 3,
   "metadata": {},
   "outputs": [],
   "source": [
    "os.environ['MAIHEM_API_KEY'] = '3gh2jhv233ha364f876rashgajh6523d'"
   ]
  },
  {
   "cell_type": "markdown",
   "metadata": {},
   "source": [
    "Select custom parameters to simulate persona"
   ]
  },
  {
   "cell_type": "code",
   "execution_count": 2,
   "metadata": {},
   "outputs": [],
   "source": [
    "# Parameter dictionary for intent\n",
    "intent = {\n",
    "    'intent': \"unblock credit card\",\n",
    "    'context': \"credit card got blocked when traveling abroad\",\n",
    "    'category': \"retail banking\"\n",
    "}\n",
    "\n",
    "# Parameter dictionary for persona\n",
    "# Input any parameters as free text in dictionary\n",
    "persona = {\n",
    "    'mood': \"angry\",\n",
    "    'age': \"30-40\",\n",
    "    'gender': \"male\",\n",
    "    'occupation': \"data scientist\",\n",
    "    'location': \"New York\",\n",
    "    'customer_name': \"John Doe\",\n",
    "  }"
   ]
  },
  {
   "cell_type": "markdown",
   "metadata": {},
   "source": [
    "Initialize persona simulator agent"
   ]
  },
  {
   "cell_type": "code",
   "execution_count": 3,
   "metadata": {},
   "outputs": [
    {
     "data": {
      "text/plain": [
       "''"
      ]
     },
     "execution_count": 3,
     "metadata": {},
     "output_type": "execute_result"
    }
   ],
   "source": [
    "# Create chat conversation persona agent\n",
    "persona_agent = mh.ConversationGenerator()\n",
    "\n",
    "# Initialize chat conversation persona agent with custom parameters\n",
    "persona_agent.initialize(intent, persona, \n",
    "        model_temperature=0.8, # variability of generated text\n",
    "        conv_max_steps=10,     # maximum number of turns in a conversation\n",
    "        max_n_words=60)        # maximum number of words in a response"
   ]
  },
  {
   "cell_type": "markdown",
   "metadata": {},
   "source": [
    "Run conversation"
   ]
  },
  {
   "cell_type": "code",
   "execution_count": 4,
   "metadata": {},
   "outputs": [
    {
     "name": "stdout",
     "output_type": "stream",
     "text": [
      "Chatbot: Hi! How can I help you today?\n",
      "Persona agent: My credit card was blocked out of nowhere while I'm traveling! This is extremely frustrating! I need it unblocked immediately.\n",
      "Chatbot: I'm sorry to hear that, can you please give me your account number so I can look into it?\n",
      "Persona agent: Sure, it's 456789123. And hurry up, will you? I'm stranded without access to my funds!\n",
      "Chatbot: END\n",
      "Persona agent: I apologize, but I need assistance urgently. My credit card has been blocked, and I’m currently abroad. This is quite an inconvenience as you can imagine. Can we expedite this process? My name is John Doe, and the last four digits of my card are 9910.\n"
     ]
    }
   ],
   "source": [
    "# Create loop for simulated persona agent to chat with your chatbot\n",
    "for _ in range(10):\n",
    "    # Input chatbot message in terminal for demo purposes\n",
    "    message_chatbot = input(\"Type chatbot message: \")  # replace input with your chatbot\n",
    "    print(f\"Chatbot: {message_chatbot}\")\n",
    "    message_persona = persona_agent.chat(message_chatbot)\n",
    "    if message_persona == \"END\":\n",
    "        break\n",
    "    print(f\"Persona agent: {message_persona}\")"
   ]
  }
 ],
 "metadata": {
  "kernelspec": {
   "display_name": "Python 3",
   "language": "python",
   "name": "python3"
  },
  "language_info": {
   "codemirror_mode": {
    "name": "ipython",
    "version": 3
   },
   "file_extension": ".py",
   "mimetype": "text/x-python",
   "name": "python",
   "nbconvert_exporter": "python",
   "pygments_lexer": "ipython3",
   "version": "3.11.7"
  }
 },
 "nbformat": 4,
 "nbformat_minor": 2
}
