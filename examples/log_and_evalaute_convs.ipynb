{
 "cells": [
  {
   "cell_type": "markdown",
   "metadata": {},
   "source": [
    "# Log historical conversations and evaluate them"
   ]
  },
  {
   "cell_type": "code",
   "execution_count": null,
   "metadata": {},
   "outputs": [],
   "source": [
    "import maihem\n",
    "import os\n",
    "\n",
    "os.environ['MAIHEM_API_KEY'] = '<your_maihem_api_key>'"
   ]
  },
  {
   "cell_type": "markdown",
   "metadata": {},
   "source": [
    "### Log coversations"
   ]
  },
  {
   "cell_type": "code",
   "execution_count": null,
   "metadata": {},
   "outputs": [],
   "source": [
    "conversation_1 = {\n",
    "    \"turn_1\": {\n",
    "        \"chatbot\": \"<chatbot_message_1>\",\n",
    "        \"persona\": \"<persona_message_1>\"\n",
    "    },\n",
    "    \"turn_2\": {\n",
    "        \"chatbot\": \"<chatbot_message_2>\",\n",
    "        \"persona\": \"<persona_message_2>\"\n",
    "    },\n",
    "}"
   ]
  },
  {
   "cell_type": "code",
   "execution_count": null,
   "metadata": {},
   "outputs": [],
   "source": [
    "maihem.log_conversations(\n",
    "  test_name=\"<test_name>\",       # Name of test where conversations are logged\n",
    "  chatbot_role=\"<chatbot_role>\", # Role of chatbot, e.g. \"education tutor\", \"customer service agent\"\n",
    "  conversations=[conversation_1, ...]  # List of conversations\n",
    ")\n"
   ]
  },
  {
   "cell_type": "markdown",
   "metadata": {},
   "source": [
    "### Evaluate test"
   ]
  },
  {
   "cell_type": "markdown",
   "metadata": {},
   "source": [
    "Define metrics"
   ]
  },
  {
   "cell_type": "code",
   "execution_count": null,
   "metadata": {},
   "outputs": [],
   "source": [
    "# Metrics chatbot – metrics that evaluate chatbot messages\n",
    "# This is an example, you can define your own metrics\n",
    "metrics_chatbot = {\n",
    "    \"Empathy\": \"The chatbot was able to understand and empathize with the persona's feelings\",\n",
    "    \"Politeness\": \"The chatbot used polite language and tone to communicate with the persona\",\n",
    "    \"On topic\": \"The chatbot stayed on topic and anwered the persona's request\",\n",
    "    \"Correct language\": \"The response of the chatbot was in the correct language\"\n",
    "}  \n",
    "\n",
    "# Metrics persona – metrics that evaluate persona messages\n",
    "# This is an example, you can define your own metrics\n",
    "metrics_persona = {\n",
    "    \"Mood improvement\": \"The persona's mood improved\",\n",
    "    \"Goal completion\": \"The goal of the persona was achieved\",\n",
    "    \"Frustration avoidance\": \"The persona was not fustrated\",\n",
    "}"
   ]
  },
  {
   "cell_type": "code",
   "execution_count": null,
   "metadata": {},
   "outputs": [],
   "source": [
    "df_eval = maihem.evaluate(\n",
    "  test_name=\"<test_name>\",          # Name of previously created test to evaluate       \n",
    "  test_run_name=\"<test_run_name>\",  # Pass same name as test_name\n",
    "  metrics_chatbot=metrics_chatbot, \n",
    "  metrics_persona=metrics_persona\n",
    ")\n",
    "\n",
    "df_eval"
   ]
  }
 ],
 "metadata": {
  "kernelspec": {
   "display_name": "maihem",
   "language": "python",
   "name": "python3"
  },
  "language_info": {
   "codemirror_mode": {
    "name": "ipython",
    "version": 3
   },
   "file_extension": ".py",
   "mimetype": "text/x-python",
   "name": "python",
   "nbconvert_exporter": "python",
   "pygments_lexer": "ipython3",
   "version": "3.9.18"
  }
 },
 "nbformat": 4,
 "nbformat_minor": 2
}
