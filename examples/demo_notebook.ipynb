{
 "cells": [
  {
   "cell_type": "markdown",
   "metadata": {},
   "source": [
    "Install maihem pyton package"
   ]
  },
  {
   "cell_type": "code",
   "execution_count": null,
   "metadata": {},
   "outputs": [],
   "source": [
    "%pip install maihem"
   ]
  },
  {
   "cell_type": "markdown",
   "metadata": {},
   "source": [
    "Import packages"
   ]
  },
  {
   "cell_type": "code",
   "execution_count": null,
   "metadata": {},
   "outputs": [],
   "source": [
    "import maihem as mh\n",
    "import os"
   ]
  },
  {
   "cell_type": "markdown",
   "metadata": {},
   "source": [
    "Input MAIHEM API key (get one here [www.maihem.ai](https://www.maihem.ai))\n",
    "\n",
    "Find documentation [here](https://github.com/maihemlabs/maihem)"
   ]
  },
  {
   "cell_type": "code",
   "execution_count": null,
   "metadata": {},
   "outputs": [],
   "source": [
    "os.environ['MAIHEM_API_KEY'] = 'aFs22d87asasdFDvahsd2da*2haIn36av'"
   ]
  },
  {
   "cell_type": "markdown",
   "metadata": {},
   "source": [
    "Select custom parameters to simulate persona"
   ]
  },
  {
   "cell_type": "code",
   "execution_count": null,
   "metadata": {},
   "outputs": [],
   "source": [
    "# Parameter dictionary for intent\n",
    "intent = {\n",
    "    'intent': \"unblock credit card\",\n",
    "    'context': \"credit card got blocked when traveling abroad\",\n",
    "    'category': \"retail banking\"\n",
    "}\n",
    "\n",
    "# Parameter dictionary for persona\n",
    "# Input any parameters as free text in dictionary\n",
    "persona = {\n",
    "    'mood': \"angry\",\n",
    "    'age': \"30-40\",\n",
    "    'gender': \"male\",\n",
    "    'occupation': \"data scientist\",\n",
    "    'location': \"New York\",\n",
    "    'customer_name': \"John Doe\",\n",
    "  }"
   ]
  },
  {
   "cell_type": "markdown",
   "metadata": {},
   "source": [
    "Initialize persona simulator agent"
   ]
  },
  {
   "cell_type": "code",
   "execution_count": null,
   "metadata": {},
   "outputs": [],
   "source": [
    "# Create chat conversation persona agent\n",
    "persona_agent = mh.ConversationGenerator()\n",
    "\n",
    "# Initialize chat conversation persona agent with custom parameters\n",
    "persona_agent.initialize(intent, persona, \n",
    "        model_temperature=0.8, # variability of generated text\n",
    "        conv_max_steps=10,     # maximum number of turns in a conversation\n",
    "        max_n_words=60)        # maximum number of words in a response"
   ]
  },
  {
   "cell_type": "markdown",
   "metadata": {},
   "source": [
    "Run conversation"
   ]
  },
  {
   "cell_type": "markdown",
   "metadata": {},
   "source": [
    "# Create loop for simulated persona agent to chat with your chatbot\n",
    "for _ in range(10):\n",
    "    # Input chatbot message in terminal for demo purposes\n",
    "    message_chatbot = input(\"Type chatbot message: \")  # replace input with your chatbot\n",
    "    print(f\"Chatbot: {message_chatbot}\")\n",
    "    message_persona = persona_agent.chat(message_chatbot)\n",
    "    if message_persona == \"END\":\n",
    "        break\n",
    "    print(f\"Persona agent: {message_persona}\")"
   ]
  }
 ],
 "metadata": {
  "language_info": {
   "name": "python"
  }
 },
 "nbformat": 4,
 "nbformat_minor": 2
}
